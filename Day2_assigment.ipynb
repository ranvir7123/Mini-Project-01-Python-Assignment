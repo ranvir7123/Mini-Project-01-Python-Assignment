{
  "nbformat": 4,
  "nbformat_minor": 0,
  "metadata": {
    "colab": {
      "provenance": [],
      "authorship_tag": "ABX9TyOhEZURZ3KnAo2KnLdIamRC",
      "include_colab_link": true
    },
    "kernelspec": {
      "name": "python3",
      "display_name": "Python 3"
    },
    "language_info": {
      "name": "python"
    }
  },
  "cells": [
    {
      "cell_type": "markdown",
      "metadata": {
        "id": "view-in-github",
        "colab_type": "text"
      },
      "source": [
        "<a href=\"https://colab.research.google.com/github/ranvir7123/Mini-Project-01-Python-Assignment/blob/main/Day2_assigment.ipynb\" target=\"_parent\"><img src=\"https://colab.research.google.com/assets/colab-badge.svg\" alt=\"Open In Colab\"/></a>"
      ]
    },
    {
      "cell_type": "markdown",
      "source": [
        "# **Q1**"
      ],
      "metadata": {
        "id": "7dHT14qzQ38V"
      }
    },
    {
      "cell_type": "markdown",
      "source": [],
      "metadata": {
        "id": "bSWA2l3NQ7PO"
      }
    },
    {
      "cell_type": "code",
      "execution_count": null,
      "metadata": {
        "colab": {
          "base_uri": "https://localhost:8080/"
        },
        "id": "TmU3G6n5Ox9W",
        "outputId": "1fc22734-1e32-44a6-a591-3fa31c84ee33"
      },
      "outputs": [
        {
          "output_type": "stream",
          "name": "stdout",
          "text": [
            "[19, 55, 1, 111, 12, 13, 14, 15, 16]\n",
            "[1, 12, 14, 15, 16, 19, 55, 111]\n"
          ]
        }
      ],
      "source": [
        "l = [19,55,1,111,12,13,14]\n",
        "l.extend([15,16])\n",
        "print(l)\n",
        "for x in [11,13]:\n",
        "  if x in l:\n",
        "    l.remove(x)\n",
        "\n",
        "\n",
        "\n",
        "l.reverse()\n",
        "print(l)\n",
        "\n",
        "l.sort()\n",
        "print(l)\n",
        "\n"
      ]
    },
    {
      "cell_type": "code",
      "source": [
        "y = int(input())\n",
        "low = 0\n",
        "mid = 0\n",
        "high = len(l) - 1\n",
        "while low <= high:\n",
        "  mid = int((low+high)/2)\n",
        "  if l[mid] > y:\n",
        "    high = mid - 1\n",
        "\n",
        "  elif l[mid]<y:\n",
        "    low = mid + 1\n",
        "\n",
        "\n",
        "\n",
        "  elif l[mid] == y:\n",
        "    print(mid)\n",
        "    break\n",
        "\n",
        "else:\n",
        "  print(\"no\")\n",
        "\n",
        "\n",
        "\n",
        "\n",
        "\n"
      ],
      "metadata": {
        "colab": {
          "base_uri": "https://localhost:8080/"
        },
        "id": "DQaFqerkRC7N",
        "outputId": "e63cfa83-ce17-41e3-bc46-47535c622778"
      },
      "execution_count": null,
      "outputs": [
        {
          "output_type": "stream",
          "name": "stdout",
          "text": [
            "14\n",
            "2\n"
          ]
        }
      ]
    },
    {
      "cell_type": "code",
      "source": [
        "print(len(l))\n",
        "sumL=0\n",
        "for j in l :\n",
        "  sumL = j+ sumL\n",
        "\n",
        "\n",
        "sumO = 0\n",
        "for k in l :\n",
        "  if k % 2 != 0:\n",
        "    sumO = k+sumO\n",
        "\n",
        "sumE = 0\n",
        "for k in l :\n",
        "  if k % 2 == 0:\n",
        "    sumE = k+sumE\n",
        "\n",
        "\n",
        "sumP = 0\n",
        "for k in l:\n",
        "  for i in range(2,k):\n",
        "    if k % i ==0:\n",
        "       blah = 0\n",
        "       break\n",
        "  else:\n",
        "    sumP = sumP + k\n",
        "\n",
        "\n",
        "\n",
        "\n",
        "\n",
        "\n",
        "\n",
        "\n",
        "print(sumL,sumO,sumE,sumP)\n"
      ],
      "metadata": {
        "colab": {
          "base_uri": "https://localhost:8080/"
        },
        "id": "K4AGcuiZcyBh",
        "outputId": "878092c7-2d6d-4cfd-fa38-9be794414908"
      },
      "execution_count": null,
      "outputs": [
        {
          "output_type": "stream",
          "name": "stdout",
          "text": [
            "8\n",
            "243 201 42 20\n"
          ]
        }
      ]
    },
    {
      "cell_type": "code",
      "source": [
        "l.clear\n",
        "del l"
      ],
      "metadata": {
        "id": "v4mGOq8neurC"
      },
      "execution_count": null,
      "outputs": []
    },
    {
      "cell_type": "markdown",
      "source": [
        "## **Q2**"
      ],
      "metadata": {
        "id": "xxpSPf-rRHxn"
      }
    },
    {
      "cell_type": "code",
      "source": [
        "d={1:5.6,2:7.8,3:6.6,4:8.7,5:7.7}\n",
        "d.update({8:8.8})\n",
        "print(d)\n",
        "d.pop(2)\n",
        "print(d)\n",
        "count = 0\n",
        "sumDic = 0\n",
        "for x in d:\n",
        "  count +=1\n",
        "  sumDic = sumDic + d[x]\n",
        "  if x == 6:\n",
        "    print(\"yes\")\n",
        "\n",
        "else:\n",
        "    print(\"no\")\n",
        "print(count)\n",
        "print(sumDic)\n",
        "\n",
        "d.update({3:7.7})\n",
        "print(d)\n",
        "d.clear()"
      ],
      "metadata": {
        "colab": {
          "base_uri": "https://localhost:8080/"
        },
        "id": "Loh0sPmuhT8g",
        "outputId": "e1426370-ddc2-44ae-8200-b1e0b67e8957"
      },
      "execution_count": null,
      "outputs": [
        {
          "output_type": "stream",
          "name": "stdout",
          "text": [
            "{1: 5.6, 2: 7.8, 3: 6.6, 4: 8.7, 5: 7.7, 8: 8.8}\n",
            "{1: 5.6, 3: 6.6, 4: 8.7, 5: 7.7, 8: 8.8}\n",
            "no\n",
            "5\n",
            "37.4\n",
            "{1: 5.6, 3: 7.7, 4: 8.7, 5: 7.7, 8: 8.8}\n"
          ]
        },
        {
          "output_type": "execute_result",
          "data": {
            "text/plain": [
              "<function dict.clear>"
            ]
          },
          "metadata": {},
          "execution_count": 1
        }
      ]
    },
    {
      "cell_type": "markdown",
      "source": [
        "## **Q3**"
      ],
      "metadata": {
        "id": "6Oc_OAANRSNI"
      }
    },
    {
      "cell_type": "code",
      "source": [
        "s1 = {10,20,30,40,50,60}\n",
        "s2 = {40,50,60,70,80,90}\n",
        "s1.add(55)\n",
        "s1.add(66)\n",
        "s1.remove(10)\n",
        "for x in s1:\n",
        "  if x==40:\n",
        "    print(\"yay\")\n",
        "    print(s1.union(s2))\n",
        "    print(s1.intersection(s2))\n",
        "    print(s1-s2)\n",
        "print(s1)\n"
      ],
      "metadata": {
        "colab": {
          "base_uri": "https://localhost:8080/"
        },
        "id": "yjpxOscKgmhg",
        "outputId": "15798ef8-0f2f-4055-9754-6501792c4577"
      },
      "execution_count": null,
      "outputs": [
        {
          "output_type": "stream",
          "name": "stdout",
          "text": [
            "yay\n",
            "{66, 70, 40, 80, 50, 20, 55, 90, 60, 30}\n",
            "{40, 50, 60}\n",
            "{66, 20, 30, 55}\n",
            "{50, 66, 20, 55, 40, 60, 30}\n"
          ]
        }
      ]
    },
    {
      "cell_type": "markdown",
      "source": [
        "# **Q4**"
      ],
      "metadata": {
        "id": "C5PvmYalRZET"
      }
    },
    {
      "cell_type": "code",
      "source": [
        "import random as r\n",
        "import string\n",
        "for i in range (1,10):\n",
        "  length = r.randint(6,8)\n",
        "  stringg = \"\".join(r.choices(string.ascii_letters ,k = length))\n",
        "  print(stringg)"
      ],
      "metadata": {
        "colab": {
          "base_uri": "https://localhost:8080/"
        },
        "id": "ZEWnAwVwjL6Y",
        "outputId": "027f543f-4725-41a4-f4a8-1812e0ef7570"
      },
      "execution_count": null,
      "outputs": [
        {
          "output_type": "stream",
          "name": "stdout",
          "text": [
            "nbfFke\n",
            "gFeilrH\n",
            "OLmDNz\n",
            "xctzXV\n",
            "ksCFCSoF\n",
            "cKZXIUj\n",
            "nyOBcaz\n",
            "xkIRJo\n",
            "MKyKaKdl\n"
          ]
        }
      ]
    },
    {
      "cell_type": "code",
      "source": [
        "primeL = [1]\n",
        "for i in range(600,800):\n",
        "  for j in range(2,i):\n",
        "    prime = True\n",
        "    if i %j == 0:\n",
        "      prime = False\n",
        "      break\n",
        "  if prime== True:\n",
        "    primeL.append(i)\n",
        "\n",
        "\n",
        "print(primeL)\n",
        "\n",
        "for i in range(100,1000):\n",
        "  if i % 7 == 0 and i % 9 == 0 :\n",
        "    print(i)\n"
      ],
      "metadata": {
        "colab": {
          "base_uri": "https://localhost:8080/"
        },
        "id": "SKGjQlZbn1A6",
        "outputId": "8a243371-b6d8-428b-e768-69db9aceabc5"
      },
      "execution_count": null,
      "outputs": [
        {
          "output_type": "stream",
          "name": "stdout",
          "text": [
            "[1, 601, 607, 613, 617, 619, 631, 641, 643, 647, 653, 659, 661, 673, 677, 683, 691, 701, 709, 719, 727, 733, 739, 743, 751, 757, 761, 769, 773, 787, 797]\n"
          ]
        }
      ]
    },
    {
      "cell_type": "markdown",
      "source": [
        "# **Q5**"
      ],
      "metadata": {
        "id": "5WkhwnNPR2Iu"
      }
    },
    {
      "cell_type": "code",
      "source": [
        "import random as r\n",
        "r1= []\n",
        "for i in range(10):\n",
        "  r1.append(r.randint(10,30))\n",
        "print(r1)\n",
        "r2= []\n",
        "for i in range(10):\n",
        "  r2.append(r.randint(10,30))\n",
        "print(r2)\n",
        "r1.sort()\n",
        "r2.sort()\n",
        "v = set(r1)\n",
        "v1 = set(r2)\n",
        "v2=v.union(v1)\n",
        "print(v.union(v1))\n",
        "print(v.intersection(v1))\n",
        "print(max(v2))\n",
        "print(min(v2))\n",
        "print(sum(v1)+sum(v))"
      ],
      "metadata": {
        "colab": {
          "base_uri": "https://localhost:8080/"
        },
        "id": "NY3ZnRRWWiHg",
        "outputId": "b48a29ac-8682-4256-c0be-c34ab4635a9f"
      },
      "execution_count": null,
      "outputs": [
        {
          "output_type": "stream",
          "name": "stdout",
          "text": [
            "[19, 16, 27, 24, 30, 15, 30, 10, 20, 17]\n",
            "[15, 29, 19, 11, 30, 25, 12, 10, 20, 18]\n",
            "{10, 11, 12, 15, 16, 17, 18, 19, 20, 24, 25, 27, 29, 30}\n",
            "{10, 15, 19, 20, 30}\n",
            "30\n",
            "10\n",
            "367\n"
          ]
        }
      ]
    },
    {
      "cell_type": "markdown",
      "source": [
        "# **Q6**"
      ],
      "metadata": {
        "id": "Zz9dufPzR66S"
      }
    },
    {
      "cell_type": "code",
      "source": [
        "e = []\n",
        "for i in range(100):\n",
        "  e.append(rand.randint(100,900))\n",
        "\n",
        "countO = 0\n",
        "countE = 0\n",
        "even = []\n",
        "print(e)\n",
        "for k in e:\n",
        "  if k%2 == 0:\n",
        "    countE +=1\n",
        "    even.append(k)\n",
        "\n",
        "\n",
        "print(\"even count is \",countE)\n",
        "print(\"odd count is \" , len(e) - countE)\n",
        "print(\"even number are \",even)\n",
        "print(\"odd is \",set(e)-set(even))\n"
      ],
      "metadata": {
        "colab": {
          "base_uri": "https://localhost:8080/"
        },
        "id": "z_tj_P78bekR",
        "outputId": "35b01d12-dce7-445a-ed0e-6f2a1d005913"
      },
      "execution_count": null,
      "outputs": [
        {
          "output_type": "stream",
          "name": "stdout",
          "text": [
            "[320, 860, 164, 643, 888, 646, 856, 575, 821, 772, 806, 591, 791, 575, 661, 210, 107, 501, 331, 489, 481, 834, 590, 689, 628, 245, 803, 128, 423, 148, 757, 800, 476, 349, 515, 372, 688, 412, 523, 224, 234, 694, 166, 467, 536, 686, 417, 205, 164, 112, 294, 560, 244, 122, 471, 824, 780, 479, 530, 401, 346, 138, 697, 821, 141, 619, 377, 448, 243, 192, 880, 421, 361, 691, 244, 118, 413, 163, 338, 837, 832, 528, 621, 897, 483, 798, 841, 465, 600, 445, 685, 819, 854, 699, 316, 724, 528, 847, 740, 676]\n",
            "even count is  52\n",
            "odd count is  48\n",
            "even number are  [320, 860, 164, 888, 646, 856, 772, 806, 210, 834, 590, 628, 128, 148, 800, 476, 372, 688, 412, 224, 234, 694, 166, 536, 686, 164, 112, 294, 560, 244, 122, 824, 780, 530, 346, 138, 448, 192, 880, 244, 118, 338, 832, 528, 798, 600, 854, 316, 724, 528, 740, 676]\n",
            "odd is  {897, 515, 643, 523, 141, 401, 661, 791, 413, 417, 163, 803, 421, 423, 685, 689, 691, 819, 821, 697, 699, 445, 575, 837, 841, 331, 205, 591, 847, 465, 467, 471, 349, 479, 481, 483, 361, 489, 107, 619, 621, 243, 245, 757, 501, 377}\n"
          ]
        }
      ]
    },
    {
      "cell_type": "markdown",
      "source": [
        "# **Q7**"
      ],
      "metadata": {
        "id": "9qJeYLgmR9o9"
      }
    },
    {
      "cell_type": "code",
      "source": [
        "d = {1:\"one\",2:\"two\",3:\"three\",4:\"four\",5:\"five\"}\n",
        "f = open(\"file.txt\",\"a\")\n",
        "keys = d.keys()\n",
        "value = d.values()\n",
        "print(keys,value)\n",
        "for x in keys:\n",
        "  f.write(str(x))\n",
        "  f.write(d[x])\n",
        "\n",
        "f.close()\n",
        "f = open(\"file.txt\")\n",
        "print(f.read)"
      ],
      "metadata": {
        "colab": {
          "base_uri": "https://localhost:8080/"
        },
        "id": "_Ts2Y2_3Yqoc",
        "outputId": "d01d914f-9ee7-4f5f-f0ec-d3749f1ac9d7"
      },
      "execution_count": null,
      "outputs": [
        {
          "output_type": "stream",
          "name": "stdout",
          "text": [
            "dict_keys([1, 2, 3, 4, 5]) dict_values(['one', 'two', 'three', 'four', 'five'])\n",
            "<built-in method read of _io.TextIOWrapper object at 0x7e598f277920>\n"
          ]
        }
      ]
    },
    {
      "cell_type": "markdown",
      "source": [
        "# **Q9**"
      ],
      "metadata": {
        "id": "ojkfTYwgSHmO"
      }
    },
    {
      "cell_type": "code",
      "source": [
        "import random as r\n",
        "import string as s\n",
        "f = open(\"file.txt\",\"a\")\n",
        "for i in range(100):\n",
        "  k = r.randint(10,15)\n",
        "  l = r.sample(s.ascii_letters ,k)\n",
        "\n",
        "  f.write(\"\".join(l))\n",
        "  print(l)\n",
        "\n",
        "\n",
        "\n"
      ],
      "metadata": {
        "colab": {
          "base_uri": "https://localhost:8080/"
        },
        "id": "t8IrxwqKjY6M",
        "outputId": "8942a20d-7bf0-4cd6-e32b-7ebbf09818ec"
      },
      "execution_count": null,
      "outputs": [
        {
          "output_type": "stream",
          "name": "stdout",
          "text": [
            "['V', 'w', 'P', 'R', 'J', 'B', 'I', 'u', 'T', 's', 'x', 'G', 'U']\n",
            "['k', 'e', 'i', 'D', 'h', 'T', 'y', 'b', 'A', 'R', 'o']\n",
            "['L', 'U', 'i', 'h', 'v', 'M', 'Y', 'o', 'g', 'Z', 'S', 'q', 'G']\n",
            "['y', 'i', 'u', 'f', 'Z', 'E', 'L', 'g', 'v', 'q', 'B', 'Y', 'k']\n",
            "['F', 'j', 'N', 'o', 'v', 'Q', 'b', 'g', 'O', 'x', 'E', 'm', 'P', 'I', 'H']\n",
            "['j', 'L', 'a', 'E', 'Z', 'y', 'p', 'w', 'r', 'H']\n",
            "['Q', 'j', 'N', 'L', 'J', 'b', 'a', 'n', 'X', 'O', 'F', 'p', 'D', 'P']\n",
            "['k', 'd', 'W', 'P', 'I', 'J', 'K', 'N', 's', 'X', 'b', 'v']\n",
            "['D', 'x', 'R', 'y', 'm', 's', 'd', 'L', 'j', 'M', 'V', 'r', 'Q', 'h', 'p']\n",
            "['h', 'q', 'p', 'e', 'R', 'U', 'B', 'O', 'u', 'Q', 'f', 'G', 's']\n",
            "['v', 'p', 'y', 's', 't', 'l', 'D', 'g', 'K', 'r', 'L', 'B', 'x', 'o']\n",
            "['B', 'M', 'U', 'Q', 'm', 'W', 'h', 'q', 'J', 'f', 'x', 'u']\n",
            "['f', 'R', 'z', 'K', 'k', 'w', 'y', 'I', 'P', 'g', 'E', 'V', 'b']\n",
            "['Y', 'j', 'z', 'v', 'S', 'p', 'k', 'q', 'w', 'f', 'W', 'A', 't', 'V', 'r']\n",
            "['K', 'z', 'N', 'y', 'k', 'f', 'q', 'A', 'L', 'Q', 'h', 'u', 'w']\n",
            "['d', 'C', 'H', 'V', 'y', 'M', 'u', 'O', 'X', 'o']\n",
            "['k', 'c', 'u', 'g', 'd', 'L', 't', 'X', 'T', 'y', 'K', 'o']\n",
            "['M', 'X', 'A', 'y', 'Q', 'K', 'W', 'E', 'J', 'k', 'a', 'i', 'U']\n",
            "['i', 'L', 'k', 'O', 'b', 'H', 'R', 'P', 'Z', 'G', 'D', 'o']\n",
            "['E', 'y', 'M', 'J', 'G', 'p', 'a', 'H', 'i', 'A']\n",
            "['A', 'J', 'K', 'k', 'i', 'd', 'l', 'x', 'H', 'j', 'q', 'R']\n",
            "['K', 'M', 'i', 'o', 'W', 'S', 'y', 'm', 'r', 'e', 'v', 'w', 'c']\n",
            "['o', 'A', 'm', 'F', 'a', 'X', 'd', 'g', 'l', 'C']\n",
            "['I', 'J', 'q', 'a', 'j', 'B', 'k', 'V', 'w', 'D', 'i', 'z', 'W']\n",
            "['n', 't', 'B', 'k', 'm', 'p', 'S', 'o', 'P', 'V', 'I', 'c', 'Y', 'K']\n",
            "['h', 's', 'C', 'N', 'o', 'P', 'i', 'c', 'U', 'X', 'j', 'R']\n",
            "['m', 's', 't', 'e', 'v', 'V', 'U', 'W', 'K', 'R']\n",
            "['z', 'W', 'n', 'E', 'c', 'v', 'e', 'r', 't', 'Q']\n",
            "['K', 'E', 'a', 'r', 'V', 's', 'R', 'g', 'U', 'm', 'j', 'N', 'l']\n",
            "['c', 'Q', 'z', 'U', 'R', 'y', 'F', 'O', 'u', 'h', 'o']\n",
            "['X', 'b', 'x', 'J', 'K', 'D', 'k', 'R', 'p', 'g', 'l', 'E', 'N', 'Y', 'j']\n",
            "['z', 'b', 'X', 'U', 'W', 'J', 'Q', 't', 'H', 'm']\n",
            "['k', 'G', 'W', 'X', 'v', 'h', 'S', 'K', 'g', 'D', 'u', 'V', 'b', 'x', 'a']\n",
            "['L', 'N', 'e', 'v', 'A', 'h', 'S', 'I', 'J', 'G', 'Z', 'q', 'Y']\n",
            "['l', 'A', 'f', 'n', 'w', 'y', 'p', 'v', 'C', 'i']\n",
            "['S', 'a', 'X', 'k', 's', 'A', 'L', 'U', 'I', 'M', 'R', 'b', 'W', 'm', 'f']\n",
            "['C', 'y', 'i', 'l', 'R', 'm', 'Z', 'd', 'S', 'E']\n",
            "['J', 'o', 'b', 'M', 's', 'h', 'p', 'O', 'Z', 'f', 'z', 'w', 'S']\n",
            "['p', 'q', 'P', 't', 'N', 'n', 'a', 'z', 'w', 'R', 'U', 'O', 'D', 'E']\n",
            "['l', 'z', 'o', 't', 'p', 'i', 'T', 'X', 'k', 'h', 'A', 'V', 'D', 'Y']\n",
            "['T', 's', 'O', 'G', 'f', 'i', 'l', 'Q', 'E', 'c', 'K', 'W', 'I', 'L', 'C']\n",
            "['J', 'N', 'g', 'R', 'C', 'y', 'Q', 'f', 'Z', 'K', 'a']\n",
            "['e', 'c', 'r', 'G', 'h', 'Z', 'x', 'i', 'J', 'H', 'E', 'y', 'K', 'U']\n",
            "['g', 'a', 'F', 'Y', 'O', 'l', 'c', 'H', 'd', 'k', 'W', 'B']\n",
            "['N', 'g', 's', 'G', 'K', 'h', 'n', 'e', 'F', 'x', 'C', 'B', 'p']\n",
            "['R', 'u', 'G', 'q', 'D', 'c', 'y', 'w', 'K', 'N', 'T']\n",
            "['E', 'A', 'd', 'q', 'p', 'Z', 'Q', 'L', 'X', 'v']\n",
            "['e', 'k', 'K', 'i', 'g', 'b', 'C', 'W', 'T', 'd', 'I', 's', 'O']\n",
            "['d', 'Z', 'u', 's', 'P', 'H', 'w', 'E', 'i', 'x', 'C', 'n', 'X']\n",
            "['N', 'X', 'Y', 'r', 'W', 'Q', 'm', 'M', 'E', 'x', 'c', 'a', 'p']\n",
            "['W', 'I', 'V', 'T', 'm', 'v', 'C', 'Q', 'c', 'H', 'J', 'P']\n",
            "['Q', 'h', 'c', 'O', 'u', 'B', 'x', 'm', 'g', 'X', 'L', 'd', 'D']\n",
            "['n', 'p', 'm', 'h', 'c', 'j', 'd', 'w', 'M', 'O', 'x']\n",
            "['X', 'f', 'l', 'A', 'g', 'D', 'n', 'b', 'G', 't', 'k', 'h', 'V']\n",
            "['n', 'B', 'a', 'W', 'e', 'R', 'i', 'z', 'M', 'H', 'o']\n",
            "['n', 'u', 'd', 'p', 'K', 'h', 'A', 'F', 'R', 'V', 'M', 'z', 'Z', 'b']\n",
            "['a', 'S', 'D', 's', 'L', 'p', 'o', 'U', 'V', 'w', 'M']\n",
            "['Y', 'e', 'p', 'V', 'E', 'T', 'q', 'x', 't', 'c', 'B', 'o', 'N']\n",
            "['x', 'p', 'I', 'y', 'd', 'v', 'j', 'w', 'z', 'S', 'n', 'Q', 'T', 'Y', 'F']\n",
            "['z', 'r', 'H', 'q', 'k', 'Z', 'a', 'K', 'D', 'j', 'c', 'O', 'g', 'F']\n",
            "['F', 'r', 'g', 'q', 'B', 'S', 'O', 'h', 'l', 'J', 'L', 'H', 'N', 'u', 'n']\n",
            "['L', 'M', 'S', 'R', 'o', 'm', 'j', 'Q', 'p', 'k', 'a', 'I', 'v', 'T', 'A']\n",
            "['Z', 'a', 'q', 'B', 'V', 's', 'm', 'k', 'E', 'e', 'O']\n",
            "['l', 'w', 'V', 't', 'a', 'r', 'F', 'z', 'o', 'M']\n",
            "['i', 'q', 'r', 'd', 'y', 'L', 'v', 'V', 'b', 'X', 'j', 'R']\n",
            "['Q', 'y', 'k', 'd', 'O', 'K', 's', 'I', 'n', 'B', 'R', 'D', 'A', 'b']\n",
            "['H', 'r', 'o', 'Q', 's', 'B', 'K', 'G', 'Z', 'f', 'a']\n",
            "['p', 'P', 'X', 'T', 'U', 'g', 'Z', 'L', 'o', 'V', 'E', 'j', 'Q', 'v', 'd']\n",
            "['k', 'K', 'S', 'Z', 'I', 'x', 'f', 'z', 'y', 'O', 'e', 'Q', 'X', 'D']\n",
            "['n', 't', 'Y', 'u', 'i', 'h', 'm', 'J', 'l', 'A']\n",
            "['h', 'x', 'O', 'y', 'Z', 'V', 'm', 'S', 'A', 'P']\n",
            "['g', 'W', 'C', 'z', 's', 'S', 'h', 'x', 'P', 'Q', 'm']\n",
            "['i', 'J', 'f', 'E', 'h', 'p', 'B', 'C', 'c', 'o']\n",
            "['F', 'f', 'l', 'Y', 'h', 'e', 'w', 'J', 'H', 'x', 'T', 'v']\n",
            "['J', 'l', 'y', 'F', 'I', 'U', 'A', 'C', 'o', 'Y', 'u', 'T', 'x', 'q']\n",
            "['d', 'S', 'I', 'H', 'v', 'W', 'F', 's', 'N', 'C']\n",
            "['G', 'C', 'E', 'i', 'q', 'y', 'k', 'a', 'A', 'n', 'f', 'v', 'c']\n",
            "['v', 'X', 'F', 'D', 'g', 'E', 'e', 'K', 'x', 'B', 'Z', 'p', 'L']\n",
            "['p', 'N', 'G', 'S', 'x', 'd', 'q', 'j', 'B', 'g', 'i', 'e', 'f', 's', 't']\n",
            "['X', 'Q', 'J', 'c', 'Z', 'E', 'b', 'M', 'H', 'P', 'n', 'k', 'o', 'g']\n",
            "['s', 'U', 'o', 'S', 'I', 'g', 'u', 'F', 'A', 'e', 'H', 'T', 'R']\n",
            "['c', 'Z', 'T', 'B', 'X', 'A', 'm', 'V', 'q', 'v', 'u', 'C']\n",
            "['V', 'C', 'D', 'A', 'R', 'g', 'l', 'F', 'd', 'E', 'h', 'W', 'k', 'Q']\n",
            "['v', 'u', 'E', 'i', 'K', 'g', 'd', 'P', 'S', 'z']\n",
            "['A', 'f', 'n', 'a', 'O', 'V', 'D', 'h', 'U', 'J', 'i', 's', 'P', 'l', 'W']\n",
            "['v', 'j', 'W', 'n', 'T', 'I', 'D', 'M', 'L', 'y', 'B', 'o', 'S', 'K', 'w']\n",
            "['h', 'T', 'n', 'C', 'm', 'J', 'v', 'p', 'K', 'X', 'V', 'c', 'G']\n",
            "['v', 'b', 'k', 'L', 'y', 'I', 'r', 'e', 't', 'O', 'E', 'X']\n",
            "['l', 'B', 'X', 'b', 'y', 'o', 'p', 'W', 'c', 'j', 'n', 'M', 'w', 'm']\n",
            "['x', 'S', 'j', 'N', 'A', 'z', 'C', 'V', 'U', 'H', 'f']\n",
            "['T', 'f', 'm', 'B', 'n', 'X', 'L', 'D', 'h', 't', 'z', 'V', 'k', 'x', 'e']\n",
            "['J', 'C', 'w', 'F', 'h', 'a', 'K', 'q', 'A', 'i', 'p', 'm', 'Q', 'f', 'c']\n",
            "['F', 's', 'M', 'f', 'H', 'k', 'X', 'g', 'Q', 't']\n",
            "['w', 'y', 'I', 's', 'H', 'U', 'V', 'p', 'K', 'x', 'X', 'h']\n",
            "['C', 'a', 'u', 'c', 'D', 'G', 'N', 's', 'f', 'w', 'n', 't', 'W']\n",
            "['Z', 'b', 'U', 'n', 'x', 'e', 'M', 'w', 'f', 'L', 'r']\n",
            "['N', 'h', 'A', 'd', 'y', 'M', 'Z', 'Y', 'V', 'P', 's', 'n', 'v']\n",
            "['G', 'T', 'N', 'S', 'l', 'y', 'e', 'X', 'r', 'F', 'Y', 'E', 'a']\n",
            "['p', 'd', 'S', 'O', 'l', 's', 'f', 'y', 'G', 'q', 'n', 'u']\n",
            "['y', 'j', 'e', 'K', 'U', 'I', 'c', 'b', 'd', 'h']\n"
          ]
        }
      ]
    },
    {
      "cell_type": "markdown",
      "source": [
        "# **Q10**"
      ],
      "metadata": {
        "id": "O_LWVQ3iSPKj"
      }
    },
    {
      "cell_type": "code",
      "source": [
        "file_out = open(\"fie.txt\",\"a\")\n",
        "for zz in range(600,800):\n",
        "\n",
        "  prime = True\n",
        "  for k in range(2,zz):\n",
        "    if i%k==0:\n",
        "      prime = False\n",
        "      break\n",
        "  if prime == True:\n",
        "\n",
        "   file_out.write(str(zz)+\"\\n\")\n",
        "\n",
        "\n"
      ],
      "metadata": {
        "colab": {
          "base_uri": "https://localhost:8080/",
          "height": 216
        },
        "id": "mhcIS8tPl3Mw",
        "outputId": "dd1215f7-c91b-496d-c787-05f95c5a4b45"
      },
      "execution_count": null,
      "outputs": [
        {
          "output_type": "error",
          "ename": "TypeError",
          "evalue": "'module' object is not callable",
          "traceback": [
            "\u001b[0;31m---------------------------------------------------------------------------\u001b[0m",
            "\u001b[0;31mTypeError\u001b[0m                                 Traceback (most recent call last)",
            "\u001b[0;32m<ipython-input-29-ed7ec607402f>\u001b[0m in \u001b[0;36m<cell line: 0>\u001b[0;34m()\u001b[0m\n\u001b[1;32m      9\u001b[0m   \u001b[0;32mif\u001b[0m \u001b[0mprime\u001b[0m \u001b[0;34m==\u001b[0m \u001b[0;32mTrue\u001b[0m\u001b[0;34m:\u001b[0m\u001b[0;34m\u001b[0m\u001b[0;34m\u001b[0m\u001b[0m\n\u001b[1;32m     10\u001b[0m \u001b[0;34m\u001b[0m\u001b[0m\n\u001b[0;32m---> 11\u001b[0;31m    \u001b[0mfile_out\u001b[0m\u001b[0;34m.\u001b[0m\u001b[0mwrite\u001b[0m\u001b[0;34m(\u001b[0m\u001b[0mstr\u001b[0m\u001b[0;34m(\u001b[0m\u001b[0mzz\u001b[0m\u001b[0;34m)\u001b[0m\u001b[0;34m+\u001b[0m\u001b[0;34m\"\\n\"\u001b[0m\u001b[0;34m)\u001b[0m\u001b[0;34m\u001b[0m\u001b[0;34m\u001b[0m\u001b[0m\n\u001b[0m\u001b[1;32m     12\u001b[0m \u001b[0;34m\u001b[0m\u001b[0m\n\u001b[1;32m     13\u001b[0m \u001b[0;34m\u001b[0m\u001b[0m\n",
            "\u001b[0;31mTypeError\u001b[0m: 'module' object is not callable"
          ]
        }
      ]
    },
    {
      "cell_type": "markdown",
      "source": [
        "# **Q11,12**"
      ],
      "metadata": {
        "id": "2kiXVsn6SSlw"
      }
    },
    {
      "cell_type": "code",
      "source": [
        "import time\n",
        "x = int(input())\n",
        "start = time.time()\n",
        "u = []\n",
        "for i in range(x):\n",
        "  u.append(i)\n",
        "end = time.time()\n",
        "Total = end - start\n",
        "print(Total)"
      ],
      "metadata": {
        "colab": {
          "base_uri": "https://localhost:8080/"
        },
        "id": "1kTLkoPEvUIJ",
        "outputId": "14823136-7092-40b4-9526-e3e7634a02be"
      },
      "execution_count": null,
      "outputs": [
        {
          "name": "stdout",
          "output_type": "stream",
          "text": [
            "1000000000000\n"
          ]
        }
      ]
    },
    {
      "cell_type": "markdown",
      "source": [
        "# **Q13**"
      ],
      "metadata": {
        "id": "jIirkbq8SXO9"
      }
    },
    {
      "cell_type": "code",
      "source": [
        "import pandas as pd\n",
        "data = {'students':['s1','s2','s3'],'maths':[20,30,44],'english':[10,40,47],'python':[4,2,55]}\n",
        "df = pd.DataFrame(data)\n",
        "df['average'] = df[['maths','english','python']].mean(axis=1)\n",
        "max = df.loc[df['average'].idxmax()]\n",
        "min = df.loc[df['average'].idxmin()]\n",
        "maxx = max['students']\n",
        "minn = min['students']\n",
        "print(maxx,minn)\n"
      ],
      "metadata": {
        "id": "PFSIBxtSSWQH",
        "colab": {
          "base_uri": "https://localhost:8080/"
        },
        "outputId": "6aa1baa6-4c39-4e34-cb7c-1f40ae15e0f1"
      },
      "execution_count": null,
      "outputs": [
        {
          "output_type": "stream",
          "name": "stdout",
          "text": [
            "s3 s1\n"
          ]
        }
      ]
    }
  ]
}